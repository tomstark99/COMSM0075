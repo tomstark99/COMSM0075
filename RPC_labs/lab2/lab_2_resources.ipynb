{
 "cells": [
  {
   "cell_type": "code",
   "execution_count": 11,
   "id": "984ee4d1",
   "metadata": {},
   "outputs": [],
   "source": [
    "states = [(x,y) for x in range(6) for y in range(6)]\n",
    "Q = dict.fromkeys(states)\n",
    "\n",
    "for state in states:\n",
    "    Q[state] = {x: y for x in ['a','b','c'] for y in [3.4,4.5,5.6]}\n",
    "\n",
    "max(Q[(2,2)], key=Q[(2,2)].get)\n",
    "\n",
    "prob_dict = dict.fromkeys(['a','b','c'], 0.3333333333333333)"
   ]
  },
  {
   "cell_type": "code",
   "execution_count": 12,
   "id": "19877a44",
   "metadata": {},
   "outputs": [
    {
     "data": {
      "text/plain": [
       "'b'"
      ]
     },
     "execution_count": 12,
     "metadata": {},
     "output_type": "execute_result"
    }
   ],
   "source": [
    "import numpy as np\n",
    "\n",
    "xd = list(prob_dict.keys())\n",
    "\n",
    "np.random.choice(xd, p=list(prob_dict.values()))"
   ]
  },
  {
   "cell_type": "code",
   "execution_count": null,
   "id": "47d4a236",
   "metadata": {},
   "outputs": [],
   "source": []
  }
 ],
 "metadata": {
  "kernelspec": {
   "display_name": "Python 3",
   "language": "python",
   "name": "python3"
  },
  "language_info": {
   "codemirror_mode": {
    "name": "ipython",
    "version": 3
   },
   "file_extension": ".py",
   "mimetype": "text/x-python",
   "name": "python",
   "nbconvert_exporter": "python",
   "pygments_lexer": "ipython3",
   "version": "3.8.8"
  }
 },
 "nbformat": 4,
 "nbformat_minor": 5
}
