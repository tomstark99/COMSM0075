{
 "cells": [
  {
   "cell_type": "markdown",
   "metadata": {},
   "source": [
    "# Worksheet 1\n",
    "\n",
    "First worksheet for COMSM0075 Information processing and the brain"
   ]
  },
  {
   "cell_type": "code",
   "execution_count": 35,
   "metadata": {},
   "outputs": [],
   "source": [
    "import math\n",
    "import numpy as np\n",
    "from numpy import where"
   ]
  },
  {
   "cell_type": "markdown",
   "metadata": {},
   "source": [
    "## Q1\n",
    "\n",
    "Work out the marginal probability distribution and conditional distributon"
   ]
  },
  {
   "cell_type": "code",
   "execution_count": 99,
   "metadata": {},
   "outputs": [
    {
     "data": {
      "text/plain": [
       "(array([0.5625, 0.25  , 0.1875]), array([0.125, 0.875]))"
      ]
     },
     "execution_count": 99,
     "metadata": {},
     "output_type": "execute_result"
    }
   ],
   "source": [
    "D = np.array([\n",
    "    [1/16, 1/2],\n",
    "    [0, 1/4],\n",
    "    [1/16, 1/8]\n",
    "])\n",
    "\n",
    "# marginal distribution from l to r: 1, 2, 3, a, b\n",
    "D.sum(1), D.sum(0)"
   ]
  },
  {
   "cell_type": "code",
   "execution_count": 100,
   "metadata": {},
   "outputs": [
    {
     "data": {
      "text/plain": [
       "array([0.5, 0. , 0.5])"
      ]
     },
     "execution_count": 100,
     "metadata": {},
     "output_type": "execute_result"
    }
   ],
   "source": [
    "# condition distribution P(Y|X=a)\n",
    "\n",
    "p_x_given_a = D[:,0]\n",
    "\n",
    "p_x_given_a / p_x_given_a.sum()"
   ]
  },
  {
   "cell_type": "markdown",
   "metadata": {},
   "source": [
    "## Q2\n",
    "\n",
    "Work out entropy"
   ]
  },
  {
   "cell_type": "code",
   "execution_count": 101,
   "metadata": {},
   "outputs": [
    {
     "data": {
      "text/plain": [
       "array([0.125, 0.875])"
      ]
     },
     "execution_count": 101,
     "metadata": {},
     "output_type": "execute_result"
    }
   ],
   "source": [
    "# H(X)\n",
    "\n",
    "X_d = D.sum(0)\n",
    "\n",
    "# - (1/16+1/16)*log2(1/16*1/16) + (1/2+1/4+1/8)*log2(1/2+1/4+1/8)\n",
    "\n",
    "# -(X_d * np.log2(X_d)).sum()\n",
    "\n",
    "X_d"
   ]
  },
  {
   "cell_type": "code",
   "execution_count": 29,
   "metadata": {},
   "outputs": [
    {
     "data": {
      "text/plain": [
       "1.4197367178034825"
      ]
     },
     "execution_count": 29,
     "metadata": {},
     "output_type": "execute_result"
    }
   ],
   "source": [
    "# H(Y)\n",
    "\n",
    "Y_d = D.sum(1)\n",
    "\n",
    "-(Y_d * np.log2(Y_d)).sum()"
   ]
  },
  {
   "cell_type": "code",
   "execution_count": 46,
   "metadata": {},
   "outputs": [
    {
     "name": "stderr",
     "output_type": "stream",
     "text": [
      "<ipython-input-46-03259b292c3a>:9: RuntimeWarning: divide by zero encountered in log2\n",
      "  -(D * where(D_given_y != 0, np.log2(D_given_y), 0)).sum()\n"
     ]
    },
    {
     "data": {
      "text/plain": [
       "0.45526328219651757"
      ]
     },
     "execution_count": 46,
     "metadata": {},
     "output_type": "execute_result"
    }
   ],
   "source": [
    "# H(X|Y)\n",
    "\n",
    "D_given_y = np.vstack((\n",
    "    D[0,:] / D[0,:].sum(),\n",
    "    D[1,:] / D[1,:].sum(),\n",
    "    D[2,:] / D[2,:].sum()\n",
    "))\n",
    "\n",
    "-(D * where(D_given_y != 0, np.log2(D_given_y), 0)).sum()"
   ]
  },
  {
   "cell_type": "code",
   "execution_count": 49,
   "metadata": {},
   "outputs": [
    {
     "name": "stderr",
     "output_type": "stream",
     "text": [
      "<ipython-input-49-3d13e0f6c0c0>:8: RuntimeWarning: divide by zero encountered in log2\n",
      "  -(D * where(D_given_x != 0, np.log2(D_given_x), 0)).sum()\n"
     ]
    },
    {
     "data": {
      "text/plain": [
       "1.3314355568004037"
      ]
     },
     "execution_count": 49,
     "metadata": {},
     "output_type": "execute_result"
    }
   ],
   "source": [
    "# H(Y|X)\n",
    "\n",
    "# First work out probability distribution for P(Y|X)\n",
    "D_given_x = np.column_stack((\n",
    "    D[:,0] / D[:,0].sum(),\n",
    "    D[:,1] / D[:,1].sum()\n",
    "))\n",
    "\n",
    "# Then work out the multiplications of all entries with their log2\n",
    "-(D * where(D_given_x != 0, np.log2(D_given_x), 0)).sum()"
   ]
  },
  {
   "cell_type": "code",
   "execution_count": 50,
   "metadata": {},
   "outputs": [
    {
     "name": "stderr",
     "output_type": "stream",
     "text": [
      "<ipython-input-50-a614d13ef225>:3: RuntimeWarning: divide by zero encountered in log2\n",
      "  -(D * where(D != 0, np.log2(D), 0)).sum()\n"
     ]
    },
    {
     "data": {
      "text/plain": [
       "1.875"
      ]
     },
     "execution_count": 50,
     "metadata": {},
     "output_type": "execute_result"
    }
   ],
   "source": [
    "# H(X,Y)\n",
    "\n",
    "-(D * where(D != 0, np.log2(D), 0)).sum()"
   ]
  },
  {
   "cell_type": "code",
   "execution_count": 52,
   "metadata": {},
   "outputs": [
    {
     "name": "stderr",
     "output_type": "stream",
     "text": [
      "<ipython-input-52-b0dc808c005a>:4: RuntimeWarning: divide by zero encountered in log2\n",
      "  H_y_given_x = -(D * where(D_given_x != 0, np.log2(D_given_x), 0)).sum()\n"
     ]
    },
    {
     "data": {
      "text/plain": [
       "0.08830116100307883"
      ]
     },
     "execution_count": 52,
     "metadata": {},
     "output_type": "execute_result"
    }
   ],
   "source": [
    "# H(Y) - H(Y|X)\n",
    "\n",
    "H_y = -(Y_d * np.log2(Y_d)).sum()\n",
    "H_y_given_x = -(D * where(D_given_x != 0, np.log2(D_given_x), 0)).sum()\n",
    "\n",
    "H_y - H_y_given_x"
   ]
  },
  {
   "cell_type": "code",
   "execution_count": 53,
   "metadata": {},
   "outputs": [],
   "source": [
    "# I(X;Y) huh"
   ]
  },
  {
   "cell_type": "markdown",
   "metadata": {},
   "source": [
    "## Q3\n",
    "\n",
    "Working out entropy (pt 2?)"
   ]
  },
  {
   "cell_type": "code",
   "execution_count": 102,
   "metadata": {},
   "outputs": [],
   "source": [
    "D = np.array([\n",
    "    [1/2**4,1/2**4],\n",
    "    [4*1/2**5,4*1/2**5],\n",
    "    [10*1/2**6,10*1/2**6],\n",
    "    [20*1/2**7,20*1/2**7]\n",
    "])\n",
    "\n",
    "D_per_series = np.array([\n",
    "    [1/16],\n",
    "    [1/32],\n",
    "    [1/64],\n",
    "    [1/128]\n",
    "])"
   ]
  },
  {
   "cell_type": "code",
   "execution_count": 103,
   "metadata": {},
   "outputs": [
    {
     "data": {
      "text/plain": [
       "5.8125"
      ]
     },
     "execution_count": 103,
     "metadata": {},
     "output_type": "execute_result"
    }
   ],
   "source": [
    "# H(X)\n",
    "\n",
    "X_d = D.sum(1)\n",
    "-(X_d * np.log2(D_per_series.T)).sum()"
   ]
  },
  {
   "cell_type": "code",
   "execution_count": 104,
   "metadata": {},
   "outputs": [
    {
     "data": {
      "text/plain": [
       "1.9237949406953985"
      ]
     },
     "execution_count": 104,
     "metadata": {},
     "output_type": "execute_result"
    }
   ],
   "source": [
    "# H(Y)\n",
    "\n",
    "Y_d = D.sum(1)\n",
    "\n",
    "-(Y_d * np.log2(Y_d)).sum()"
   ]
  },
  {
   "cell_type": "code",
   "execution_count": 108,
   "metadata": {},
   "outputs": [
    {
     "data": {
      "text/plain": [
       "3.8887050593046015"
      ]
     },
     "execution_count": 108,
     "metadata": {},
     "output_type": "execute_result"
    }
   ],
   "source": [
    "# H(X|Y)\n",
    "\n",
    "(-(X_d * np.log2(D_per_series.T)).sum()) - (-(Y_d * np.log2(Y_d)).sum())"
   ]
  },
  {
   "cell_type": "code",
   "execution_count": 109,
   "metadata": {},
   "outputs": [
    {
     "data": {
      "text/plain": [
       "0"
      ]
     },
     "execution_count": 109,
     "metadata": {},
     "output_type": "execute_result"
    }
   ],
   "source": [
    "# H(Y|X) is equal to 0 since the outcome determines the series length\n",
    "\n",
    "0"
   ]
  },
  {
   "cell_type": "markdown",
   "metadata": {},
   "source": [
    "## Q4\n",
    "\n",
    "The average entropy\n",
    "\n",
    "For a distribution with two events $\\{x_1,x_2\\}$\n",
    "\n",
    "$p(x_1)=p$ and $p(x_2)=1-p$, under the assumption that each value of $p$ is equally likely\n",
    "\n",
    "---\n",
    "\n",
    "$H(X) = - (p \\times \\log_2 p + 1-p \\times \\log_\" 1-p)$\n",
    "\n",
    "To get the average entropy we need\n",
    "\n",
    "$\\displaystyle\\langle H\\rangle_p \\int_0^1 H(p)\\text{ dp} = - \\int_0^1p\\log p\\text{ dp}-\\int_0^1(1-p)\\log(1-p)\\text{ dp}$\n",
    "\n",
    "Given that the choice of which probability to call $p$ and which to call $1-p$ you may expect that the two are equal\n",
    "\n",
    "$\\displaystyle\\int_0^1p\\log p\\text{ dp} = \\int_0^1(1-p)\\log(1-p)\\text{ dp}$\n",
    "\n",
    "This is easy to check by substituting $q=1-p$. Hence:\n",
    "\n",
    "$\\displaystyle\\langle H\\rangle_p = -2 \\int_0^1 p\\log p\\text{ dp}$\n",
    "\n",
    "To make the integration easier, let us switch to natural log\n",
    "\n",
    "$\\displaystyle\\langle H_e\\rangle_p = -2 \\int_0^1 p\\ln p\\text{ dp}$\n",
    "\n",
    "It is easy to convert back since $\\log p = \\frac{\\ln p}{\\ln 2}$. Now use integration by parts with $u = \\log p$ and $\\text{dv} = p\\text{ dp}$\n",
    "\n",
    "$\\displaystyle\\int_0^1 p\\ln p\\text{ dp} = \\frac{p^2}{2}\\ln - \\int_0^1\\frac{p^2}{2}\\frac{1}{p}\\text{ dp} = \\frac{p^2}{4}_0^1 = -\\frac{1}{4}$\n",
    "\n",
    "Therefore:\n",
    "\n",
    "$\\displaystyle -2 \\times -\\frac{1}{4} = \\frac{1}{2}$\n",
    "\n",
    "and hence:\n",
    "\n",
    "$\\displaystyle\\langle H\\rangle_p\\frac{1}{2\\ln 2}\\approx 0.72$"
   ]
  },
  {
   "cell_type": "code",
   "execution_count": null,
   "metadata": {},
   "outputs": [],
   "source": []
  },
  {
   "cell_type": "code",
   "execution_count": null,
   "metadata": {},
   "outputs": [],
   "source": []
  }
 ],
 "metadata": {
  "kernelspec": {
   "display_name": "Python 3",
   "language": "python",
   "name": "python3"
  },
  "language_info": {
   "codemirror_mode": {
    "name": "ipython",
    "version": 3
   },
   "file_extension": ".py",
   "mimetype": "text/x-python",
   "name": "python",
   "nbconvert_exporter": "python",
   "pygments_lexer": "ipython3",
   "version": "3.7.6"
  }
 },
 "nbformat": 4,
 "nbformat_minor": 5
}
